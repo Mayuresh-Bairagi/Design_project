{
 "cells": [
  {
   "cell_type": "code",
   "execution_count": 1,
   "id": "347e7cd1",
   "metadata": {},
   "outputs": [
    {
     "name": "stdout",
     "output_type": "stream",
     "text": [
      "Shree swami samarth\n"
     ]
    }
   ],
   "source": [
    "print(\"Shree swami samarth\")"
   ]
  },
  {
   "cell_type": "code",
   "execution_count": 3,
   "id": "e90c7fa1",
   "metadata": {},
   "outputs": [],
   "source": [
    "import os \n",
    "from dotenv import load_dotenv\n",
    "\n",
    "load_dotenv()\n",
    "\n",
    "os.environ[\"GROQ_API_KEY\"] = os.getenv(\"groq_key\")"
   ]
  },
  {
   "cell_type": "code",
   "execution_count": 22,
   "id": "6f6b3eef",
   "metadata": {},
   "outputs": [],
   "source": [
    "from groq import Groq\n",
    "import base64\n",
    "import os\n",
    "\n",
    "\n",
    "def encode_image(image_path):\n",
    "  with open(image_path, \"rb\") as image_file:\n",
    "    return base64.b64encode(image_file.read()).decode('utf-8')\n",
    "\n",
    "\n",
    "image_path = r\"D:\\DP\\DesignProject\\models\\fruits_quality_classification\\dataset\\Good_quality\\IMG_0112.JPG\"\n",
    "\n",
    "\n",
    "base64_image = encode_image(image_path)\n",
    "\n",
    "client = Groq(api_key=os.environ.get(\"GROQ_API_KEY\"))\n",
    "system__message = \"\"\"\n",
    "Analyze the image of this fruit crop and provide 5 actionable suggestions to help the farmer improve both crop yield and market readiness. \n",
    "Consider visual factors such as fruit size, ripeness, color uniformity, leaf health, signs of pests or diseases, and overall plant condition. \n",
    "Your suggestions should focus on practices that can increase productivity and also enhance the visual appeal and quality of the fruit for better market value. \n",
    "Include tips related to pruning, fertilization, irrigation, pest control, harvesting time, and post-harvest handling.\n",
    "only give the suggestions, do not give any other information.\n",
    "Do not include any disclaimers or additional context.\n",
    "Do not repeat the question.\n",
    "Do not include any greetings or salutations.\n",
    "give only this 5 suggestions in a list format.\n",
    "1.\n",
    "2.\n",
    "3.\n",
    "4.\n",
    "5.\n",
    "\"\"\"\n",
    "\n",
    "chat_completion = client.chat.completions.create(\n",
    "    messages=[\n",
    "        {\n",
    "            \"role\": \"user\",\n",
    "            \"content\": [\n",
    "                {\"type\": \"text\", \"text\": system__message},\n",
    "                {\n",
    "                    \"type\": \"image_url\",\n",
    "                    \"image_url\": {\n",
    "                        \"url\": f\"data:image/jpeg;base64,{base64_image}\",\n",
    "                    },\n",
    "                },\n",
    "            ],\n",
    "        }\n",
    "    ],\n",
    "    model=\"meta-llama/llama-4-scout-17b-16e-instruct\",\n",
    ")\n",
    "\n",
    "response_sugeestion = chat_completion.choices[0].message.content"
   ]
  },
  {
   "cell_type": "code",
   "execution_count": 24,
   "id": "d979c511",
   "metadata": {},
   "outputs": [
    {
     "data": {
      "text/plain": [
       "['1. Implement regular pruning to promote healthy growth, increase fruit size, and enhance color uniformity by removing dead or damaged leaves and stems.',\n",
       " '2. Use balanced fertilizers to provide essential nutrients, ensuring optimal plant growth, fruit development, and improved resistance to pests and diseases.',\n",
       " '3. Maintain consistent irrigation schedules to prevent water stress, which can affect fruit size, quality, and yield, and consider using drip irrigation to reduce waste.',\n",
       " '4. Monitor for pests and diseases regularly, and implement integrated pest management techniques, such as introducing beneficial insects or using organic pesticides, to minimize damage and reduce the risk of contamination.',\n",
       " '5. Harvest bananas at the optimal stage of ripeness, when they are mature but still green, and handle them carefully during and after harvest to prevent bruising and damage, ensuring better market quality and value.']"
      ]
     },
     "execution_count": 24,
     "metadata": {},
     "output_type": "execute_result"
    }
   ],
   "source": [
    "response_sugeestion.split(\"\\n\")"
   ]
  },
  {
   "cell_type": "code",
   "execution_count": 19,
   "id": "39fc9cbc",
   "metadata": {},
   "outputs": [],
   "source": [
    "from groq import Groq\n",
    "import base64\n",
    "import os\n",
    "\n",
    "\n",
    "def encode_image(image_path):\n",
    "  with open(image_path, \"rb\") as image_file:\n",
    "    return base64.b64encode(image_file.read()).decode('utf-8')\n",
    "\n",
    "\n",
    "image_path = r\"D:\\DP\\DesignProject\\models\\fruits_quality_classification\\dataset\\Meduim_quality\\IMG20200729183102.jpg\"\n",
    "\n",
    "\n",
    "base64_image = encode_image(image_path)\n",
    "\n",
    "client = Groq(api_key=os.environ.get(\"GROQ_API_KEY\"))\n",
    "\n",
    "system__message = \"\"\"\n",
    "Analyze the image of this fruit crop and provide the number of fruits in the image.\n",
    "Consider visual factors such as fruit size, ripeness, color uniformity, leaf health, signs of pests or diseases, and overall plant condition.\n",
    "\n",
    "\n",
    "output only the number of fruits in the image.\n",
    "Do not include any disclaimers or additional context.\n",
    "Do not repeat the question.\n",
    "Do not include any greetings or salutations.\n",
    "Do not include any other information.\n",
    "Do not include any suggestions.\n",
    "Do not include any other information.\n",
    "required_output format:\n",
    "    Number of fruits :\n",
    "    fruits_type :\n",
    "    overall_health :\n",
    "\"\"\"\n",
    "\n",
    "\n",
    "chat_completion = client.chat.completions.create(\n",
    "    messages=[\n",
    "        {\n",
    "            \"role\": \"user\",\n",
    "            \"content\": [\n",
    "                {\"type\": \"text\", \"text\":system__message},\n",
    "                {\n",
    "                    \"type\": \"image_url\",\n",
    "                    \"image_url\": {\n",
    "                        \"url\": f\"data:image/jpeg;base64,{base64_image}\",\n",
    "                    },\n",
    "                },\n",
    "            ],\n",
    "        }\n",
    "    ],\n",
    "    model=\"meta-llama/llama-4-scout-17b-16e-instruct\",\n",
    ")\n",
    "\n",
    "response = chat_completion.choices[0].message.content"
   ]
  },
  {
   "cell_type": "code",
   "execution_count": 20,
   "id": "1a035a78",
   "metadata": {},
   "outputs": [],
   "source": [
    "response_list = response.splitlines()"
   ]
  },
  {
   "cell_type": "code",
   "execution_count": null,
   "id": "abab5d6f",
   "metadata": {},
   "outputs": [
    {
     "name": "stdout",
     "output_type": "stream",
     "text": [
      "{'Number of fruits': 3, 'fruits_type': 'bananas', 'overall_health': 'poor'}\n"
     ]
    }
   ],
   "source": [
    "def list_to_json(data_list):\n",
    "    result = {}\n",
    "    for item in data_list:\n",
    "        if \":\" in item:\n",
    "            key, value = item.split(\":\", 1)  \n",
    "            key = key.strip()\n",
    "            value = value.strip()\n",
    "\n",
    "            if value.isdigit():\n",
    "                value = int(value)\n",
    "            else:\n",
    "                try:\n",
    "                    value = float(value)\n",
    "                except ValueError:\n",
    "                    pass  \n",
    "\n",
    "            result[key] = value\n",
    "    return result\n",
    "\n",
    "output_json = list_to_json(response_list)\n",
    "print(output_json)\n",
    "\n",
    "    "
   ]
  },
  {
   "cell_type": "code",
   "execution_count": null,
   "id": "5e69d482",
   "metadata": {},
   "outputs": [
    {
     "ename": "ImportError",
     "evalue": "cannot import name 'GroqModel' from 'groq' (d:\\DP\\DesignProject\\virtualenv\\Lib\\site-packages\\groq\\__init__.py)",
     "output_type": "error",
     "traceback": [
      "\u001b[31m---------------------------------------------------------------------------\u001b[39m",
      "\u001b[31mImportError\u001b[39m                               Traceback (most recent call last)",
      "\u001b[36mCell\u001b[39m\u001b[36m \u001b[39m\u001b[32mIn[26]\u001b[39m\u001b[32m, line 1\u001b[39m\n\u001b[32m----> \u001b[39m\u001b[32m1\u001b[39m \u001b[38;5;28;01mfrom\u001b[39;00m\u001b[38;5;250m \u001b[39m\u001b[34;01mgroq\u001b[39;00m\u001b[38;5;250m \u001b[39m\u001b[38;5;28;01mimport\u001b[39;00m GroqModel\n",
      "\u001b[31mImportError\u001b[39m: cannot import name 'GroqModel' from 'groq' (d:\\DP\\DesignProject\\virtualenv\\Lib\\site-packages\\groq\\__init__.py)"
     ]
    }
   ],
   "source": []
  },
  {
   "cell_type": "code",
   "execution_count": null,
   "id": "8d3dfd21",
   "metadata": {},
   "outputs": [],
   "source": []
  }
 ],
 "metadata": {
  "kernelspec": {
   "display_name": "virtualenv",
   "language": "python",
   "name": "python3"
  },
  "language_info": {
   "codemirror_mode": {
    "name": "ipython",
    "version": 3
   },
   "file_extension": ".py",
   "mimetype": "text/x-python",
   "name": "python",
   "nbconvert_exporter": "python",
   "pygments_lexer": "ipython3",
   "version": "3.12.7"
  }
 },
 "nbformat": 4,
 "nbformat_minor": 5
}
